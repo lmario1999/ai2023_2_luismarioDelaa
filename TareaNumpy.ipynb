{
  "nbformat": 4,
  "nbformat_minor": 0,
  "metadata": {
    "colab": {
      "provenance": [],
      "authorship_tag": "ABX9TyNYfyyt+VM7GM2RpUiHWUnP",
      "include_colab_link": true
    },
    "kernelspec": {
      "name": "python3",
      "display_name": "Python 3"
    },
    "language_info": {
      "name": "python"
    }
  },
  "cells": [
    {
      "cell_type": "markdown",
      "metadata": {
        "id": "view-in-github",
        "colab_type": "text"
      },
      "source": [
        "<a href=\"https://colab.research.google.com/github/lmario1999/ai2023_2_luismarioDelaa/blob/main/TareaNumpy.ipynb\" target=\"_parent\"><img src=\"https://colab.research.google.com/assets/colab-badge.svg\" alt=\"Open In Colab\"/></a>"
      ]
    },
    {
      "cell_type": "code",
      "execution_count": null,
      "metadata": {
        "colab": {
          "base_uri": "https://localhost:8080/"
        },
        "id": "qhJOrwv0H7d4",
        "outputId": "c2b35930-e089-40e2-a440-957a55f3477a"
      },
      "outputs": [
        {
          "output_type": "stream",
          "name": "stdout",
          "text": [
            "[1 2 3 4 5 6 7 8]\n",
            "(8,)\n",
            "(2, 4)\n",
            "[[1 3 5 7]\n",
            " [2 4 6 8]]\n",
            "<class 'numpy.ndarray'>\n",
            "[0. 0. 0. 0.]\n",
            "[[5 5 5 5]\n",
            " [5 5 5 5]\n",
            " [5 5 5 5]\n",
            " [5 5 5 5]]\n",
            "[[1. 0. 0. 0.]\n",
            " [0. 1. 0. 0.]\n",
            " [0. 0. 1. 0.]\n",
            " [0. 0. 0. 1.]]\n",
            "[[3. 3. 3. 3.]\n",
            " [3. 3. 3. 3.]\n",
            " [3. 3. 3. 3.]\n",
            " [3. 3. 3. 3.]]\n",
            "[[3. 3. 3. 3.]\n",
            " [3. 3. 3. 3.]\n",
            " [3. 3. 3. 3.]\n",
            " [3. 3. 3. 3.]]\n"
          ]
        }
      ],
      "source": [
        "import numpy as np\n",
        "\n",
        "aux=np.array([1,2,3,4,5,6,7,8])\n",
        "print(aux)\n",
        "print(aux.shape)\n",
        "\n",
        "aux=np.array([[1,3,5,7],[2,4,6,8]])\n",
        "print(aux.shape)\n",
        "print(aux)\n",
        "print(type(aux))\n",
        "\n",
        "tmp=np.zeros(4)\n",
        "print(tmp)\n",
        "\n",
        "tmp=np.full((4,4),5)\n",
        "print(tmp)\n",
        "\n",
        "tmp=np.eye(4,4)\n",
        "print(tmp)\n",
        "\n",
        "tmp=np.ones((4,4))*3\n",
        "print(tmp)\n",
        "\n",
        "print(tmp)"
      ]
    },
    {
      "cell_type": "code",
      "source": [
        "tmp=10*np.random.random((3,3))\n",
        "print(tmp)"
      ],
      "metadata": {
        "colab": {
          "base_uri": "https://localhost:8080/"
        },
        "id": "VNwU4rGLIVAy",
        "outputId": "9d4324e5-65bb-40fe-dff4-2c575a055712"
      },
      "execution_count": null,
      "outputs": [
        {
          "output_type": "stream",
          "name": "stdout",
          "text": [
            "[[1.56749661 7.82954523 5.30426867]\n",
            " [7.64723717 5.36450881 7.96370938]\n",
            " [7.11216709 1.27957962 0.44556623]]\n"
          ]
        }
      ]
    },
    {
      "cell_type": "code",
      "source": [
        "print(tmp[:2,:2])"
      ],
      "metadata": {
        "colab": {
          "base_uri": "https://localhost:8080/"
        },
        "id": "EERKXcYuItur",
        "outputId": "4428732e-c089-483e-99c4-bbf6fa230216"
      },
      "execution_count": null,
      "outputs": [
        {
          "output_type": "stream",
          "name": "stdout",
          "text": [
            "[[1.56749661 7.82954523]\n",
            " [7.64723717 5.36450881]]\n"
          ]
        }
      ]
    },
    {
      "cell_type": "code",
      "source": [
        "print(tmp[:2,1:3])"
      ],
      "metadata": {
        "colab": {
          "base_uri": "https://localhost:8080/"
        },
        "id": "Fsf9ojo1I8XD",
        "outputId": "e13b9d8e-627d-4ea9-ba5f-9dfe3af971fe"
      },
      "execution_count": null,
      "outputs": [
        {
          "output_type": "stream",
          "name": "stdout",
          "text": [
            "[[7.82954523 5.30426867]\n",
            " [5.36450881 7.96370938]]\n"
          ]
        }
      ]
    },
    {
      "cell_type": "code",
      "source": [
        "print(tmp[1,1])"
      ],
      "metadata": {
        "colab": {
          "base_uri": "https://localhost:8080/"
        },
        "id": "4SU_RcrmJAD-",
        "outputId": "df0751b6-23bb-43ae-a7bb-bac028769600"
      },
      "execution_count": null,
      "outputs": [
        {
          "output_type": "stream",
          "name": "stdout",
          "text": [
            "5.3645088076421015\n"
          ]
        }
      ]
    },
    {
      "cell_type": "code",
      "source": [
        "print(tmp[2,2])"
      ],
      "metadata": {
        "colab": {
          "base_uri": "https://localhost:8080/"
        },
        "id": "oJrK57hiJD9g",
        "outputId": "6658a10f-5b35-40f9-ea3b-2f8bb279d562"
      },
      "execution_count": null,
      "outputs": [
        {
          "output_type": "stream",
          "name": "stdout",
          "text": [
            "0.4455662275072403\n"
          ]
        }
      ]
    },
    {
      "cell_type": "code",
      "source": [
        "mask=tmp>5\n",
        "print(tmp[mask])"
      ],
      "metadata": {
        "colab": {
          "base_uri": "https://localhost:8080/"
        },
        "id": "Wo-1XbXXJIiw",
        "outputId": "4bd454f5-7c6c-41f1-987c-9da1100faee5"
      },
      "execution_count": null,
      "outputs": [
        {
          "output_type": "stream",
          "name": "stdout",
          "text": [
            "[7.82954523 5.30426867 7.64723717 5.36450881 7.96370938 7.11216709]\n"
          ]
        }
      ]
    },
    {
      "cell_type": "code",
      "source": [
        "mask=(tmp >=2) & (tmp <=4)\n",
        "print(tmp[mask])"
      ],
      "metadata": {
        "colab": {
          "base_uri": "https://localhost:8080/"
        },
        "id": "ZXu43bcPJLw2",
        "outputId": "ad20098b-efdc-4b55-c658-3e442311f2e4"
      },
      "execution_count": null,
      "outputs": [
        {
          "output_type": "stream",
          "name": "stdout",
          "text": [
            "[]\n"
          ]
        }
      ]
    },
    {
      "cell_type": "code",
      "source": [
        "tmp=np.random.randint(0,10, size=(4,4))\n",
        "print(tmp)\n",
        "\n",
        "enteros = tmp[ tmp % 2 == 0]\n",
        "print(enteros)"
      ],
      "metadata": {
        "colab": {
          "base_uri": "https://localhost:8080/"
        },
        "id": "clVtN3HXJRoy",
        "outputId": "06b13a14-52ce-4769-eae1-9f90baba4adc"
      },
      "execution_count": null,
      "outputs": [
        {
          "output_type": "stream",
          "name": "stdout",
          "text": [
            "[[5 8 1 3]\n",
            " [5 8 7 7]\n",
            " [6 4 4 0]\n",
            " [6 6 1 9]]\n",
            "[8 8 6 4 4 0 6 6]\n"
          ]
        }
      ]
    },
    {
      "cell_type": "code",
      "source": [
        "a=np.random.randint(1,11, size=(3,4))\n",
        "b=np.random.randint(1,11, size=(3,4))\n",
        "print(a)\n",
        "print(b)\n",
        "\n",
        "print(a.shape)\n",
        "print(b.shape)\n",
        "\n",
        "print('SUMA')\n",
        "print (a+b)\n",
        "print (np.add(a,b))\n",
        "print('RESTA')\n",
        "print (a-b)\n",
        "print (np.subtract(a,b))\n",
        "print('MULTIPLICACION')\n",
        "print (a*b)\n",
        "print (np.multiply(a,b))\n",
        "print('DIVISION')\n",
        "print (a/b)\n",
        "print (np.divide(a,b))"
      ],
      "metadata": {
        "colab": {
          "base_uri": "https://localhost:8080/"
        },
        "id": "19mbdq-9JWSy",
        "outputId": "cc7137f8-1b04-49b2-b458-f4c837a56239"
      },
      "execution_count": null,
      "outputs": [
        {
          "output_type": "stream",
          "name": "stdout",
          "text": [
            "[[10  2  3  8]\n",
            " [ 8  2  1 10]\n",
            " [10  7  3  8]]\n",
            "[[ 2  6  5  8]\n",
            " [10 10  4  8]\n",
            " [ 8  5  7  1]]\n",
            "(3, 4)\n",
            "(3, 4)\n",
            "SUMA\n",
            "[[12  8  8 16]\n",
            " [18 12  5 18]\n",
            " [18 12 10  9]]\n",
            "[[12  8  8 16]\n",
            " [18 12  5 18]\n",
            " [18 12 10  9]]\n",
            "RESTA\n",
            "[[ 8 -4 -2  0]\n",
            " [-2 -8 -3  2]\n",
            " [ 2  2 -4  7]]\n",
            "[[ 8 -4 -2  0]\n",
            " [-2 -8 -3  2]\n",
            " [ 2  2 -4  7]]\n",
            "MULTIPLICACION\n",
            "[[20 12 15 64]\n",
            " [80 20  4 80]\n",
            " [80 35 21  8]]\n",
            "[[20 12 15 64]\n",
            " [80 20  4 80]\n",
            " [80 35 21  8]]\n",
            "DIVISION\n",
            "[[5.         0.33333333 0.6        1.        ]\n",
            " [0.8        0.2        0.25       1.25      ]\n",
            " [1.25       1.4        0.42857143 8.        ]]\n",
            "[[5.         0.33333333 0.6        1.        ]\n",
            " [0.8        0.2        0.25       1.25      ]\n",
            " [1.25       1.4        0.42857143 8.        ]]\n"
          ]
        }
      ]
    },
    {
      "cell_type": "code",
      "source": [
        "a=np.random.randint(1,11, size=(2,3))\n",
        "b=np.random.randint(1,11, size=(3,4))\n",
        "print(a)\n",
        "print(b)\n",
        "print(np.dot(a,b))\n",
        "\n",
        "print('MULTIPLICACION')\n",
        "print(a.dot(b))"
      ],
      "metadata": {
        "colab": {
          "base_uri": "https://localhost:8080/"
        },
        "id": "D3mGrE0RJmJS",
        "outputId": "add9afaf-3578-4a9c-d4ec-ab9a545a006d"
      },
      "execution_count": null,
      "outputs": [
        {
          "output_type": "stream",
          "name": "stdout",
          "text": [
            "[[ 2  5  1]\n",
            " [ 2 10  2]]\n",
            "[[10  7  9  8]\n",
            " [ 3  9  5  2]\n",
            " [ 3  7  3  4]]\n",
            "[[ 38  66  46  30]\n",
            " [ 56 118  74  44]]\n",
            "MULTIPLICACION\n",
            "[[ 38  66  46  30]\n",
            " [ 56 118  74  44]]\n"
          ]
        }
      ]
    },
    {
      "cell_type": "code",
      "source": [
        "a=np.random.randint(1,11, size=(2,2))\n",
        "print(a.shape)\n",
        "print(type(a))\n",
        "print(a)\n",
        "print(a.T)"
      ],
      "metadata": {
        "colab": {
          "base_uri": "https://localhost:8080/"
        },
        "id": "3UgTKvoyJs33",
        "outputId": "e784bd3f-ff1c-45f3-9643-dc655dd4e50b"
      },
      "execution_count": null,
      "outputs": [
        {
          "output_type": "stream",
          "name": "stdout",
          "text": [
            "(2, 2)\n",
            "<class 'numpy.ndarray'>\n",
            "[[ 1  3]\n",
            " [ 1 10]]\n",
            "[[ 1  1]\n",
            " [ 3 10]]\n"
          ]
        }
      ]
    },
    {
      "cell_type": "code",
      "source": [
        "a=np.random.randint(1,11, size=(4,3))\n",
        "b=np.array([1,0,2])\n",
        "print(a.shape)\n",
        "print(b.shape)\n",
        "\n",
        "c=np.empty_like(a)\n",
        "print(c.shape)\n",
        "\n",
        "print(a)\n",
        "print(b)\n",
        "print(c)\n",
        "\n",
        "for i in range(4):\n",
        "  c[i,:]=a[i,:]+b\n",
        "\n",
        "c=a+b\n",
        "print(c)\n"
      ],
      "metadata": {
        "colab": {
          "base_uri": "https://localhost:8080/"
        },
        "id": "lMX7Zq6FJwiu",
        "outputId": "f7ed2844-9819-4aba-b3a6-15cb8a2da802"
      },
      "execution_count": null,
      "outputs": [
        {
          "output_type": "stream",
          "name": "stdout",
          "text": [
            "(4, 3)\n",
            "(3,)\n",
            "(4, 3)\n",
            "[[8 3 9]\n",
            " [8 2 1]\n",
            " [5 1 9]\n",
            " [6 8 5]]\n",
            "[1 0 2]\n",
            "[[10  2  3]\n",
            " [ 8  8  2]\n",
            " [ 1 10 10]\n",
            " [ 7  3  8]]\n",
            "[[ 9  3 11]\n",
            " [ 9  2  3]\n",
            " [ 6  1 11]\n",
            " [ 7  8  7]]\n"
          ]
        }
      ]
    },
    {
      "cell_type": "code",
      "source": [
        "a=np.array([1,2,3])\n",
        "b=np.tile(a, (6, 1))\n",
        "print(a)\n",
        "print(b)"
      ],
      "metadata": {
        "colab": {
          "base_uri": "https://localhost:8080/"
        },
        "id": "d-5xqwIRJ0vq",
        "outputId": "4fd0fb68-58eb-456b-a142-8b085173aa89"
      },
      "execution_count": null,
      "outputs": [
        {
          "output_type": "stream",
          "name": "stdout",
          "text": [
            "[1 2 3]\n",
            "[[1 2 3]\n",
            " [1 2 3]\n",
            " [1 2 3]\n",
            " [1 2 3]\n",
            " [1 2 3]\n",
            " [1 2 3]]\n"
          ]
        }
      ]
    },
    {
      "cell_type": "code",
      "source": [
        "a=np.random.randint(0,11, size=(6,6))\n",
        "print(a)\n",
        "aux=np.mean(a)\n",
        "print(aux)\n",
        "fila=np.mean(a, axis=1)\n",
        "print(fila)\n",
        "columna=np.mean(a, axis=0)\n",
        "print(columna)"
      ],
      "metadata": {
        "colab": {
          "base_uri": "https://localhost:8080/"
        },
        "id": "pA2kpyj5KAJ2",
        "outputId": "19c3c215-83d1-424a-e741-2805b2a3424f"
      },
      "execution_count": null,
      "outputs": [
        {
          "output_type": "stream",
          "name": "stdout",
          "text": [
            "[[ 4  3  6  3  3  9]\n",
            " [ 6  3  0  8  7  7]\n",
            " [10  9 10  0  6 10]\n",
            " [ 3  5  4  9  7  7]\n",
            " [ 0  1  6  0  1  1]\n",
            " [ 1  2  4  1 10  8]]\n",
            "4.833333333333333\n",
            "[4.66666667 5.16666667 7.5        5.83333333 1.5        4.33333333]\n",
            "[4.         3.83333333 5.         3.5        5.66666667 7.        ]\n"
          ]
        }
      ]
    },
    {
      "cell_type": "code",
      "source": [],
      "metadata": {
        "id": "asj50sk2KEEG"
      },
      "execution_count": null,
      "outputs": []
    },
    {
      "cell_type": "code",
      "source": [],
      "metadata": {
        "id": "8-48_y4OQy5u"
      },
      "execution_count": null,
      "outputs": []
    }
  ]
}