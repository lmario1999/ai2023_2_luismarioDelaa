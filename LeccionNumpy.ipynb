{
  "nbformat": 4,
  "nbformat_minor": 0,
  "metadata": {
    "colab": {
      "provenance": [],
      "authorship_tag": "ABX9TyPgooyixD8bQjpvaoWV7Psl",
      "include_colab_link": true
    },
    "kernelspec": {
      "name": "python3",
      "display_name": "Python 3"
    },
    "language_info": {
      "name": "python"
    }
  },
  "cells": [
    {
      "cell_type": "markdown",
      "metadata": {
        "id": "view-in-github",
        "colab_type": "text"
      },
      "source": [
        "<a href=\"https://colab.research.google.com/github/lmario1999/ai2023_2_luismarioDelaa/blob/main/LeccionNumpy.ipynb\" target=\"_parent\"><img src=\"https://colab.research.google.com/assets/colab-badge.svg\" alt=\"Open In Colab\"/></a>"
      ]
    },
    {
      "cell_type": "code",
      "execution_count": 3,
      "metadata": {
        "id": "KGcpKhvGPKvH"
      },
      "outputs": [],
      "source": [
        "# Import numpy as np and see the version\n",
        "import numpy as np"
      ]
    },
    {
      "cell_type": "code",
      "source": [
        "# Create a 1D array of numbers from 0 to 9\n",
        "aux=list(range(10))\n",
        "print(aux)"
      ],
      "metadata": {
        "colab": {
          "base_uri": "https://localhost:8080/"
        },
        "id": "-3I_1dREPlDo",
        "outputId": "72ded8af-e169-4801-cb8e-8438e6bfd100"
      },
      "execution_count": 4,
      "outputs": [
        {
          "output_type": "stream",
          "name": "stdout",
          "text": [
            "[0, 1, 2, 3, 4, 5, 6, 7, 8, 9]\n"
          ]
        }
      ]
    },
    {
      "cell_type": "code",
      "source": [
        "# Create random vector of size 10 and replace the maximum value by 0\n",
        "random_vector = np.random.rand(10)\n",
        "\n",
        "max_index = np.argmax(random_vector)\n",
        "\n",
        "random_vector[max_index] = 0\n",
        "\n",
        "print(\"Random Vector:\", random_vector)"
      ],
      "metadata": {
        "id": "uQl7odJTPwKf",
        "colab": {
          "base_uri": "https://localhost:8080/"
        },
        "outputId": "ea8eae00-5a22-496a-d7fc-59c985ea362f"
      },
      "execution_count": 5,
      "outputs": [
        {
          "output_type": "stream",
          "name": "stdout",
          "text": [
            "Random Vector: [0.83859517 0.30710096 0.41982255 0.09322107 0.         0.6674768\n",
            " 0.12788446 0.77783213 0.46672356 0.16465276]\n"
          ]
        }
      ]
    },
    {
      "cell_type": "code",
      "source": [
        "# Print the number 8 from the array below:\n",
        "# arr = np.array([[1,2,3,4,5], [6,7,8,9,10]])\n",
        "\n",
        "aux = np.array([[1, 2, 3, 4, 5], [6, 7, 8, 9, 10]])\n",
        "number_8 = aux[1, 2]\n",
        "\n",
        "print(number_8)"
      ],
      "metadata": {
        "colab": {
          "base_uri": "https://localhost:8080/"
        },
        "id": "g0VdZ1woSj5_",
        "outputId": "7d5de89e-264c-4422-8b21-4562e1de3bd6"
      },
      "execution_count": 6,
      "outputs": [
        {
          "output_type": "stream",
          "name": "stdout",
          "text": [
            "8\n"
          ]
        }
      ]
    },
    {
      "cell_type": "code",
      "source": [
        "# Print the numbers [3, 4, 5] from the array below:\n",
        "# arr = np.array([1,2,3,4,5,6,7])\n",
        "\n",
        "aux = np.array([1, 2, 3, 4, 5, 6, 7])\n",
        "numbers_345 = aux[2:5]\n",
        "\n",
        "print(numbers_345)\n"
      ],
      "metadata": {
        "colab": {
          "base_uri": "https://localhost:8080/"
        },
        "id": "oxDkkEwnS-WW",
        "outputId": "d0ba20a6-cdb2-4d2e-e762-6ef0583b8566"
      },
      "execution_count": 7,
      "outputs": [
        {
          "output_type": "stream",
          "name": "stdout",
          "text": [
            "[3 4 5]\n"
          ]
        }
      ]
    },
    {
      "cell_type": "code",
      "source": [
        "# Print the last 4 numbers from the array below:\n",
        "# arr = np.array([1,2,3,4,5,6,7])\n",
        "\n",
        "aux = np.array([1, 2, 3, 4, 5, 6, 7])\n",
        "numeros = aux[-4:]\n",
        "\n",
        "print(numeros)"
      ],
      "metadata": {
        "colab": {
          "base_uri": "https://localhost:8080/"
        },
        "id": "bQ14z3hLTeMw",
        "outputId": "08ed1407-33cb-4f02-e6d9-1eddce10b5ff"
      },
      "execution_count": 8,
      "outputs": [
        {
          "output_type": "stream",
          "name": "stdout",
          "text": [
            "[4 5 6 7]\n"
          ]
        }
      ]
    },
    {
      "cell_type": "code",
      "source": [
        "# Create a 3×3 numpy array of all True’s\n",
        "\n",
        "true_array = np.ones((3, 3), dtype=bool)\n",
        "print(true_array)"
      ],
      "metadata": {
        "colab": {
          "base_uri": "https://localhost:8080/"
        },
        "id": "42rI5eq_T4Rn",
        "outputId": "82d04458-fae2-472d-dce7-5e9c71063b04"
      },
      "execution_count": 9,
      "outputs": [
        {
          "output_type": "stream",
          "name": "stdout",
          "text": [
            "[[ True  True  True]\n",
            " [ True  True  True]\n",
            " [ True  True  True]]\n"
          ]
        }
      ]
    },
    {
      "cell_type": "code",
      "source": [
        "# Extract all odd numbers from arr\n",
        "\n",
        "aux = np.array([1, 2, 3, 4, 5, 6, 7, 8, 9])\n",
        "odd_numbers = aux[aux % 2 != 0]\n",
        "\n",
        "print(odd_numbers)"
      ],
      "metadata": {
        "colab": {
          "base_uri": "https://localhost:8080/"
        },
        "id": "LtBVvxygUTxp",
        "outputId": "68c9ac65-d160-4c38-b9a2-fc1324606929"
      },
      "execution_count": 10,
      "outputs": [
        {
          "output_type": "stream",
          "name": "stdout",
          "text": [
            "[1 3 5 7 9]\n"
          ]
        }
      ]
    },
    {
      "cell_type": "code",
      "source": [
        "# Create a vector with values ranging from 10 to 49 (★☆☆)\n",
        "\n",
        "vector = np.arange(10, 50)\n",
        "\n",
        "print(vector)"
      ],
      "metadata": {
        "colab": {
          "base_uri": "https://localhost:8080/"
        },
        "id": "zJU7CliHzbHD",
        "outputId": "7309af2d-0e95-433a-d8b1-40404d8f8fb4"
      },
      "execution_count": 11,
      "outputs": [
        {
          "output_type": "stream",
          "name": "stdout",
          "text": [
            "[10 11 12 13 14 15 16 17 18 19 20 21 22 23 24 25 26 27 28 29 30 31 32 33\n",
            " 34 35 36 37 38 39 40 41 42 43 44 45 46 47 48 49]\n"
          ]
        }
      ]
    },
    {
      "cell_type": "code",
      "source": [
        "# Reverse a vector (first element becomes last)\n",
        "\n",
        "vector_np = np.array([1, 2, 3, 4, 5])\n",
        "\n",
        "reversed_vector_np = vector_np[::-1]\n",
        "\n",
        "print(reversed_vector_np)"
      ],
      "metadata": {
        "colab": {
          "base_uri": "https://localhost:8080/"
        },
        "id": "Be1Sr9cMz7hN",
        "outputId": "2181df2e-d66c-4998-e36e-ab68030de567"
      },
      "execution_count": 12,
      "outputs": [
        {
          "output_type": "stream",
          "name": "stdout",
          "text": [
            "[5 4 3 2 1]\n"
          ]
        }
      ]
    },
    {
      "cell_type": "code",
      "source": [
        "#  Create a 10x10 array with random integer values and find the minimum and maximum values\n",
        "\n",
        "array = np.random.randint(0, 100, size=(10, 10))\n",
        "\n",
        "print(\"Array:\")\n",
        "print(array)\n",
        "\n",
        "# Find the minimum and maximum values in the array\n",
        "min_value = np.min(array)\n",
        "max_value = np.max(array)\n",
        "\n",
        "print(f\"Minimum value: {min_value}\")\n",
        "print(f\"Maximum value: {max_value}\")"
      ],
      "metadata": {
        "colab": {
          "base_uri": "https://localhost:8080/"
        },
        "id": "C0Zn-1ui0KwP",
        "outputId": "c0b74631-d389-4fd9-81a5-fda28fcb40bc"
      },
      "execution_count": 13,
      "outputs": [
        {
          "output_type": "stream",
          "name": "stdout",
          "text": [
            "Array:\n",
            "[[24 93 88 52 84 87 67 60 61 43]\n",
            " [15 58 45 59 71 56 35 87 71 85]\n",
            " [14 12 76 32 46 77 97 87 78 96]\n",
            " [93  1 80 77 38 50 79 95 44 45]\n",
            " [27 83 18 47 35 15 74 59 36 80]\n",
            " [82 87 70 96 83  4 49 79 37 90]\n",
            " [90 30 14 94 88 98 52 68 90 85]\n",
            " [59 14 47 98 24 94 30 58 87 60]\n",
            " [74 60 83 70 20 52 68 16 87 14]\n",
            " [63 61 61 72 58 30 75 96 81 67]]\n",
            "Minimum value: 1\n",
            "Maximum value: 98\n"
          ]
        }
      ]
    },
    {
      "cell_type": "code",
      "source": [
        "# Create a 3x3x3 array with random values\n",
        "\n",
        "array_3d = np.random.rand(3, 3, 3)\n",
        "\n",
        "print(\"3x3x3 Array with Random Values:\")\n",
        "print(array_3d)"
      ],
      "metadata": {
        "colab": {
          "base_uri": "https://localhost:8080/"
        },
        "id": "vYqYJ73E0aSU",
        "outputId": "9df4be16-166a-499c-b4a0-f230b1c10897"
      },
      "execution_count": 14,
      "outputs": [
        {
          "output_type": "stream",
          "name": "stdout",
          "text": [
            "3x3x3 Array with Random Values:\n",
            "[[[0.56334097 0.31420735 0.73941232]\n",
            "  [0.24415777 0.23749289 0.25841608]\n",
            "  [0.38399146 0.2089733  0.94309512]]\n",
            "\n",
            " [[0.29128871 0.2095531  0.25066501]\n",
            "  [0.89041659 0.17988225 0.79089832]\n",
            "  [0.04542029 0.07906985 0.10252013]]\n",
            "\n",
            " [[0.06394645 0.92138658 0.61470337]\n",
            "  [0.17666918 0.99673179 0.81122851]\n",
            "  [0.24198399 0.90255908 0.6471947 ]]]\n"
          ]
        }
      ]
    },
    {
      "cell_type": "code",
      "source": [
        "# Replace all odd numbers in arr with -1\n",
        "\n",
        "arr = np.array([[1, 2, 3],\n",
        "                [4, 5, 6],\n",
        "                [7, 8, 9]])\n",
        "\n",
        "mask = (arr % 2 != 0)\n",
        "\n",
        "\n",
        "arr[mask] = -1\n",
        "\n",
        "print(\"Array with odd numbers replaced by -1:\")\n",
        "print(arr)"
      ],
      "metadata": {
        "colab": {
          "base_uri": "https://localhost:8080/"
        },
        "id": "ZBcYf0390lCU",
        "outputId": "74bf0a8e-f454-4fca-9c24-a1f96881ca13"
      },
      "execution_count": 15,
      "outputs": [
        {
          "output_type": "stream",
          "name": "stdout",
          "text": [
            "Array with odd numbers replaced by -1:\n",
            "[[-1  2 -1]\n",
            " [ 4 -1  6]\n",
            " [-1  8 -1]]\n"
          ]
        }
      ]
    },
    {
      "cell_type": "code",
      "source": [
        "# Create an array of type float\n",
        "\n",
        "float_array = np.array([1, 2, 3, 4], dtype=float)\n",
        "\n",
        "print(\"Array of type float:\")\n",
        "print(float_array)"
      ],
      "metadata": {
        "colab": {
          "base_uri": "https://localhost:8080/"
        },
        "id": "v-4M3xl-0yxq",
        "outputId": "6d12ce29-ebb5-4eab-cec9-0d996b2d9a9c"
      },
      "execution_count": 16,
      "outputs": [
        {
          "output_type": "stream",
          "name": "stdout",
          "text": [
            "Array of type float:\n",
            "[1. 2. 3. 4.]\n"
          ]
        }
      ]
    },
    {
      "cell_type": "code",
      "source": [
        "# Convert a 1D array to a 2D array with 2 rows\n",
        "\n",
        "array_1d = np.array([1, 2, 3, 4, 5, 6])\n",
        "\n",
        "array_2d = array_1d.reshape(2, -1)  # -1 infers the number of columns\n",
        "\n",
        "print(\"2D array with 2 rows:\")\n",
        "print(array_2d)"
      ],
      "metadata": {
        "colab": {
          "base_uri": "https://localhost:8080/"
        },
        "id": "MxnqQmEM06bj",
        "outputId": "95b1fd47-1faf-42f3-8477-db46b30d2109"
      },
      "execution_count": 17,
      "outputs": [
        {
          "output_type": "stream",
          "name": "stdout",
          "text": [
            "2D array with 2 rows:\n",
            "[[1 2 3]\n",
            " [4 5 6]]\n"
          ]
        }
      ]
    },
    {
      "cell_type": "code",
      "source": [
        "# How to find common values between two arrays?\n",
        "\n",
        "Z1 = np.random.randint(0, 10, 10)\n",
        "Z2 = np.random.randint(0, 10, 10)\n",
        "\n",
        "# Find common values between Z1 and Z2\n",
        "common_values = np.intersect1d(Z1, Z2)\n",
        "\n",
        "print(\"Common values between Z1 and Z2:\")\n",
        "print(common_values)"
      ],
      "metadata": {
        "colab": {
          "base_uri": "https://localhost:8080/"
        },
        "id": "dJqkgKb01KBr",
        "outputId": "9975d3c1-6bdf-4aaa-d03a-21fe72f6fca0"
      },
      "execution_count": 18,
      "outputs": [
        {
          "output_type": "stream",
          "name": "stdout",
          "text": [
            "Common values between the arrays:\n",
            "[3 4 5]\n"
          ]
        }
      ]
    },
    {
      "cell_type": "code",
      "source": [
        "#  Consider two random array A and B, check if they are equal\n",
        "\n",
        "# A = np.random.randint(0,2,5)\n",
        "# B = np.random.randint(0,2,5)\n",
        "\n",
        "A = np.random.randint(0, 2, 5)\n",
        "B = np.random.randint(0, 2, 5)\n",
        "\n",
        "# Check if arrays A and B are equal\n",
        "are_equal = np.array_equal(A, B)\n",
        "\n",
        "if are_equal:\n",
        "    print(\"Arrays A and B are equal.\")\n",
        "else:\n",
        "    print(\"Arrays A and B are not equal.\")"
      ],
      "metadata": {
        "colab": {
          "base_uri": "https://localhost:8080/"
        },
        "id": "EhlSrBl-1Wmz",
        "outputId": "81adb0f7-a662-483f-f07f-5f4ac9e1db38"
      },
      "execution_count": 19,
      "outputs": [
        {
          "output_type": "stream",
          "name": "stdout",
          "text": [
            "Arrays A and B are not equal.\n"
          ]
        }
      ]
    },
    {
      "cell_type": "code",
      "source": [
        "# Stack arrays a and b vertically\n",
        "\n",
        "a = np.array([[1, 2, 3],\n",
        "              [4, 5, 6]])\n",
        "\n",
        "b = np.array([[7, 8, 9],\n",
        "              [10, 11, 12]])\n",
        "\n",
        "# Stack arrays a and b vertically\n",
        "stacked = np.vstack((a, b))\n",
        "\n",
        "print(\"Stacked arrays vertically:\")\n",
        "print(stacked)"
      ],
      "metadata": {
        "colab": {
          "base_uri": "https://localhost:8080/"
        },
        "id": "cEqk_H_V1y_0",
        "outputId": "736488ee-8700-43cc-e0f6-2bcf1820cc7f"
      },
      "execution_count": 20,
      "outputs": [
        {
          "output_type": "stream",
          "name": "stdout",
          "text": [
            "Stacked arrays vertically:\n",
            "[[ 1  2  3]\n",
            " [ 4  5  6]\n",
            " [ 7  8  9]\n",
            " [10 11 12]]\n"
          ]
        }
      ]
    },
    {
      "cell_type": "code",
      "source": [
        "# Stack the arrays a and b horizontally.\n",
        "\n",
        "a = np.array([[1, 2],\n",
        "              [3, 4]])\n",
        "\n",
        "b = np.array([[5, 6],\n",
        "              [7, 8]])\n",
        "\n",
        "# Stack arrays a and b horizontally\n",
        "stacked = np.hstack((a, b))\n",
        "\n",
        "print(\"Stacked arrays horizontally:\")\n",
        "print(stacked)"
      ],
      "metadata": {
        "colab": {
          "base_uri": "https://localhost:8080/"
        },
        "id": "XI7XVRkK18mC",
        "outputId": "3fa8c9bb-9946-4e08-911b-2e9e80fd1851"
      },
      "execution_count": 21,
      "outputs": [
        {
          "output_type": "stream",
          "name": "stdout",
          "text": [
            "Stacked arrays horizontally:\n",
            "[[1 2 5 6]\n",
            " [3 4 7 8]]\n"
          ]
        }
      ]
    },
    {
      "cell_type": "code",
      "source": [
        "# Get all items between 5 and 10 from array tmp.\n",
        "\n",
        "tmp = np.array([2, 4, 6, 8, 10, 12])\n",
        "\n",
        "# Get all items between 5 and 10 from array tmp\n",
        "result = tmp[(tmp >= 5) & (tmp <= 10)]\n",
        "\n",
        "print(\"Items between 5 and 10 in array tmp:\")\n",
        "print(result)"
      ],
      "metadata": {
        "colab": {
          "base_uri": "https://localhost:8080/"
        },
        "id": "wK0H2ka12HgU",
        "outputId": "03a3fa1f-3764-43ed-ed54-1872b51fc9be"
      },
      "execution_count": 22,
      "outputs": [
        {
          "output_type": "stream",
          "name": "stdout",
          "text": [
            "Items between 5 and 10 in array tmp:\n",
            "[ 6  8 10]\n"
          ]
        }
      ]
    },
    {
      "cell_type": "code",
      "source": [
        "# How to make a python function that handles scalars to work on numpy arrays?\n",
        "# Hint\n",
        "# Desired Output:\n",
        "# a = np.array([5, 7, 9, 8, 6, 4, 5])\n",
        "# b = np.array([6, 3, 4, 8, 9, 7, 1])\n",
        "# pair_max(a, b)\n",
        "# #> array([ 6.,  7.,  9.,  8.,  9.,  7.,  5.])\n",
        "\n",
        "def pair_max(a, b):\n",
        "    return np.maximum(a, b)\n",
        "\n",
        "# Example arrays a and b\n",
        "a = np.array([5, 7, 9, 8, 6, 4, 5])\n",
        "b = np.array([6, 3, 4, 8, 9, 7, 1])\n",
        "\n",
        "# Get the pair-wise maximum of arrays a and b\n",
        "result = pair_max(a, b)\n",
        "\n",
        "print(\"Pair-wise maximum of arrays a and b:\")\n",
        "print(result)"
      ],
      "metadata": {
        "colab": {
          "base_uri": "https://localhost:8080/"
        },
        "id": "hG8V2Ghh72O_",
        "outputId": "076e3573-ac12-47b5-fd84-1b77342300db"
      },
      "execution_count": 23,
      "outputs": [
        {
          "output_type": "stream",
          "name": "stdout",
          "text": [
            "Pair-wise maximum of arrays a and b:\n",
            "[6 7 9 8 9 7 5]\n"
          ]
        }
      ]
    },
    {
      "cell_type": "code",
      "source": [
        "# Swap columns 1 and 2 in the array arr.\n",
        "# Hint\n",
        "# Desired Output:\n",
        "# [[0 2 1]\n",
        "#  [3 5 4]\n",
        "#  [6 8 7]]\n",
        "\n",
        "arr = np.array([[0, 1, 2],\n",
        "                [3, 4, 5],\n",
        "                [6, 7, 8]])\n",
        "\n",
        "# Swap columns 1 and 2 in the array arr\n",
        "arr[:, [1, 2]] = arr[:, [2, 1]]\n",
        "\n",
        "print(\"Array with columns 1 and 2 swapped:\")\n",
        "print(arr)"
      ],
      "metadata": {
        "colab": {
          "base_uri": "https://localhost:8080/"
        },
        "id": "Yv821ySi8IMY",
        "outputId": "3c0fd8f1-a1a3-4475-9e8d-fb69d80c95ad"
      },
      "execution_count": 24,
      "outputs": [
        {
          "output_type": "stream",
          "name": "stdout",
          "text": [
            "Array with columns 1 and 2 swapped:\n",
            "[[0 2 1]\n",
            " [3 5 4]\n",
            " [6 8 7]]\n"
          ]
        }
      ]
    },
    {
      "cell_type": "code",
      "source": [
        "# Create a 2D array of shape 5x3 to contain random decimal numbers between 5 and 10.\n",
        "# Hint\n",
        "# The desired Output should be like the following one:\n",
        "#  [[ 8.50061025  9.10531502  6.85867783]\n",
        "#   [ 9.76262069  9.87717411  7.13466701]\n",
        "#   [ 7.48966403  8.33409158  6.16808631]\n",
        "#   [ 7.75010551  9.94535696  5.27373226]\n",
        "#   [ 8.0850361   5.56165518  7.31244004]]\n",
        "\n",
        "array = np.random.uniform(5, 10, size=(5, 3))\n",
        "\n",
        "print(\"2D array of shape 5x3 with random decimal numbers between 5 and 10:\")\n",
        "print(array)"
      ],
      "metadata": {
        "colab": {
          "base_uri": "https://localhost:8080/"
        },
        "id": "e9Eiz43v8ZB4",
        "outputId": "caa6412d-2680-479c-c89e-7a0085987b4c"
      },
      "execution_count": 25,
      "outputs": [
        {
          "output_type": "stream",
          "name": "stdout",
          "text": [
            "2D array of shape 5x3 with random decimal numbers between 5 and 10:\n",
            "[[9.70220349 9.99294643 8.95530981]\n",
            " [8.79699141 8.93487656 9.50471799]\n",
            " [5.21308457 5.54183953 7.56968489]\n",
            " [7.81564531 8.68273512 6.42561222]\n",
            " [7.74521926 6.41163745 6.45417749]]\n"
          ]
        }
      ]
    }
  ]
}